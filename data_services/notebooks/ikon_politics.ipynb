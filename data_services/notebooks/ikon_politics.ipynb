{
 "cells": [
  {
   "cell_type": "code",
   "execution_count": 1,
   "metadata": {},
   "outputs": [
    {
     "name": "stderr",
     "output_type": "stream",
     "text": [
      "/tmp/ipykernel_52503/1517058454.py:2: DeprecationWarning: \n",
      "Pyarrow will become a required dependency of pandas in the next major release of pandas (pandas 3.0),\n",
      "(to allow more performant data types, such as the Arrow string type, and better interoperability with other libraries)\n",
      "but was not found to be installed on your system.\n",
      "If this would cause problems for you,\n",
      "please provide us feedback at https://github.com/pandas-dev/pandas/issues/54466\n",
      "        \n",
      "  import pandas as pd\n"
     ]
    }
   ],
   "source": [
    "import re\n",
    "import pandas as pd \n",
    "import warnings\n",
    "\n",
    "warnings.filterwarnings('ignore')\n"
   ]
  },
  {
   "cell_type": "code",
   "execution_count": 2,
   "metadata": {},
   "outputs": [],
   "source": [
    "ikon_df_1 = pd.read_csv('../data/raw/ikon-2024-01-27-23.csv', header=0, encoding='utf-8')\n",
    "ikon_df_2 = pd.read_csv('../data/raw/ikon-2024-01-28-14.csv', header=0, encoding='utf-8')\n",
    "ikon_df = pd.concat([ikon_df_1, ikon_df_2], ignore_index=True)\n",
    "ikon_df.to_csv('../data/raw/ikon-politics.csv', index=False)"
   ]
  },
  {
   "cell_type": "markdown",
   "metadata": {},
   "source": []
  },
  {
   "cell_type": "code",
   "execution_count": 9,
   "metadata": {},
   "outputs": [
    {
     "data": {
      "text/html": [
       "<div>\n",
       "<style scoped>\n",
       "    .dataframe tbody tr th:only-of-type {\n",
       "        vertical-align: middle;\n",
       "    }\n",
       "\n",
       "    .dataframe tbody tr th {\n",
       "        vertical-align: top;\n",
       "    }\n",
       "\n",
       "    .dataframe thead th {\n",
       "        text-align: right;\n",
       "    }\n",
       "</style>\n",
       "<table border=\"1\" class=\"dataframe\">\n",
       "  <thead>\n",
       "    <tr style=\"text-align: right;\">\n",
       "      <th></th>\n",
       "      <th>date</th>\n",
       "      <th>headline</th>\n",
       "      <th>url</th>\n",
       "      <th>content</th>\n",
       "      <th>author</th>\n",
       "      <th>title</th>\n",
       "      <th>category</th>\n",
       "      <th>source</th>\n",
       "    </tr>\n",
       "  </thead>\n",
       "  <tbody>\n",
       "    <tr>\n",
       "      <th>count</th>\n",
       "      <td>36730</td>\n",
       "      <td>36730</td>\n",
       "      <td>36730</td>\n",
       "      <td>36730</td>\n",
       "      <td>36730</td>\n",
       "      <td>36730</td>\n",
       "      <td>36730</td>\n",
       "      <td>36730</td>\n",
       "    </tr>\n",
       "    <tr>\n",
       "      <th>unique</th>\n",
       "      <td>18244</td>\n",
       "      <td>17594</td>\n",
       "      <td>18295</td>\n",
       "      <td>18295</td>\n",
       "      <td>449</td>\n",
       "      <td>18170</td>\n",
       "      <td>2</td>\n",
       "      <td>2</td>\n",
       "    </tr>\n",
       "    <tr>\n",
       "      <th>top</th>\n",
       "      <td>date</td>\n",
       "      <td>Шууд дамжуулж байна</td>\n",
       "      <td>url</td>\n",
       "      <td>content</td>\n",
       "      <td>ikon.mn</td>\n",
       "      <td>title</td>\n",
       "      <td>politics</td>\n",
       "      <td>ikon</td>\n",
       "    </tr>\n",
       "    <tr>\n",
       "      <th>freq</th>\n",
       "      <td>134</td>\n",
       "      <td>454</td>\n",
       "      <td>134</td>\n",
       "      <td>134</td>\n",
       "      <td>6972</td>\n",
       "      <td>134</td>\n",
       "      <td>36596</td>\n",
       "      <td>36596</td>\n",
       "    </tr>\n",
       "  </tbody>\n",
       "</table>\n",
       "</div>"
      ],
      "text/plain": [
       "         date             headline    url  content   author  title  category  \\\n",
       "count   36730                36730  36730    36730    36730  36730     36730   \n",
       "unique  18244                17594  18295    18295      449  18170         2   \n",
       "top      date  Шууд дамжуулж байна    url  content  ikon.mn  title  politics   \n",
       "freq      134                  454    134      134     6972    134     36596   \n",
       "\n",
       "       source  \n",
       "count   36730  \n",
       "unique      2  \n",
       "top      ikon  \n",
       "freq    36596  "
      ]
     },
     "execution_count": 9,
     "metadata": {},
     "output_type": "execute_result"
    }
   ],
   "source": [
    "ikon_df = pd.read_csv('../data/raw/ikon-politics.csv')\n",
    "# ikon_df = ikon_df.sample(frac=0.1)\n",
    "ikon_df.describe()"
   ]
  },
  {
   "cell_type": "code",
   "execution_count": 10,
   "metadata": {},
   "outputs": [],
   "source": [
    "ikon_df = ikon_df[ikon_df[\"date\"] != \"date\"]"
   ]
  },
  {
   "cell_type": "code",
   "execution_count": 13,
   "metadata": {},
   "outputs": [],
   "source": [
    "ikon_df.describe()\n",
    "ikon_df.to_csv('../data/raw/ikon-test.csv', index=False)"
   ]
  },
  {
   "cell_type": "code",
   "execution_count": 5,
   "metadata": {},
   "outputs": [],
   "source": [
    "ikon = pd.read_csv('../data/raw/ikon-test.csv', on_bad_lines='skip')\n",
    "ikon.describe()\n",
    "ikon.to_csv('../data/processed/ikon-no_bad_lines.csv', index=False)\n"
   ]
  },
  {
   "cell_type": "code",
   "execution_count": null,
   "metadata": {},
   "outputs": [],
   "source": []
  },
  {
   "cell_type": "code",
   "execution_count": null,
   "metadata": {},
   "outputs": [],
   "source": []
  }
 ],
 "metadata": {
  "kernelspec": {
   "display_name": "data_services",
   "language": "python",
   "name": "python3"
  },
  "language_info": {
   "codemirror_mode": {
    "name": "ipython",
    "version": 3
   },
   "file_extension": ".py",
   "mimetype": "text/x-python",
   "name": "python",
   "nbconvert_exporter": "python",
   "pygments_lexer": "ipython3",
   "version": "3.10.12"
  }
 },
 "nbformat": 4,
 "nbformat_minor": 2
}
